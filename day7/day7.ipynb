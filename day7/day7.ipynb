{
 "cells": [
  {
   "cell_type": "markdown",
   "metadata": {},
   "source": [
    "Part 1"
   ]
  },
  {
   "cell_type": "code",
   "execution_count": 111,
   "metadata": {},
   "outputs": [
    {
     "name": "stdout",
     "output_type": "stream",
     "text": [
      "1449447"
     ]
    }
   ],
   "source": [
    "a=open(\"input.txt\")\n",
    "tree=Dict()\n",
    "cwd=[]\n",
    "ls=false\n",
    "filelist=[]\n",
    "while !eof(a)\n",
    "    line=readline(a)\n",
    "    if line[1]=='$'\n",
    "        if line[3:end]==\"cd ..\"\n",
    "            _=pop!(cwd)\n",
    "            ls=false\n",
    "        elseif line[3:4]==\"cd\"\n",
    "            append!(cwd,[string(line[6:end])])\n",
    "            #print(cwd)\n",
    "            ls=false\n",
    "        elseif line[3:4]==\"ls\"\n",
    "            ls=true\n",
    "        end\n",
    "    elseif line[1:3]==\"dir\" && ls\n",
    "        #print(\"directory\")\n",
    "    elseif line[1:3]!=\"dir\" && ls\n",
    "        #print(\"file\")\n",
    "        size,filename=split(line,\" \")\n",
    "        append!(filelist,[Dict(\"cwd\"=>copy(cwd),\"name\"=>filename,\"size\"=>parse(Int64,size))])\n",
    "    end\n",
    "end\n",
    "\n",
    "close(a)\n",
    "\n",
    "# get size of each folder recursively\n",
    "sizes=Dict()\n",
    "for f in filelist\n",
    "    for j in range(1,length(f[\"cwd\"]))\n",
    "        b=copy(f[\"cwd\"][1:j])\n",
    "        if haskey(sizes,b)\n",
    "            sizes[b]+=f[\"size\"]\n",
    "        else\n",
    "            sizes[b]=f[\"size\"]\n",
    "        end\n",
    "    end\n",
    "end\n",
    "\n",
    "# sum folders with size <100000\n",
    "sizesum=0\n",
    "for (k,v) in sizes\n",
    "    if v<100000\n",
    "        sizesum+=v\n",
    "    end\n",
    "end\n",
    "\n",
    "print(sizesum)"
   ]
  },
  {
   "cell_type": "code",
   "execution_count": 109,
   "metadata": {},
   "outputs": [
    {
     "data": {
      "text/plain": [
       "186-element Vector{Pair{Any, Any}}:\n",
       " Any[\"/\", \"jbt\", \"bbm\", \"tvqh\", \"njqd\", \"vtvwjhm\", \"dnjgl\", \"nmbrz\", \"hgzgq\", \"tdz\"] => 7924\n",
       " Any[\"/\", \"jbt\", \"bbm\", \"tvqh\", \"njqd\", \"nzpvt\", \"sfwhmn\", \"jmgzcqvd\", \"dtr\", \"tdz\"] => 12772\n",
       "        Any[\"/\", \"jbt\", \"bbm\", \"tvqh\", \"njqd\", \"nzpvt\", \"sfwhmn\", \"jmgzcqvd\", \"dtr\"] => 12772\n",
       "               Any[\"/\", \"jbt\", \"bbm\", \"tvqh\", \"njqd\", \"nzpvt\", \"sfwhmn\", \"jmgzcqvd\"] => 12772\n",
       "                                   Any[\"/\", \"jbt\", \"bbm\", \"tvqh\", \"njqd\", \"ntrnlms\"] => 15229\n",
       "                                             Any[\"/\", \"tmcpgtz\", \"wldfm\", \"gbzhcvn\"] => 18543\n",
       "                                                         Any[\"/\", \"fchrtcbh\", \"fct\"] => 25094\n",
       "                                             Any[\"/\", \"fchrtcbh\", \"fct\", \"ctzphlhl\"] => 25094\n",
       "              Any[\"/\", \"jbt\", \"bbm\", \"nsshzppb\", \"jlcqcb\", \"nzpvt\", \"pfqcbp\", \"fct\"] => 33372\n",
       "     Any[\"/\", \"jbt\", \"bbm\", \"nsshzppb\", \"jlcqcb\", \"nzpvt\", \"pfqcbp\", \"ssbv\", \"pmqj\"] => 34310\n",
       "                                                                                     ⋮\n",
       "                                        Any[\"/\", \"jbt\", \"bbm\", \"nsshzppb\", \"jlcqcb\"] => 5336501\n",
       "                                                  Any[\"/\", \"jbt\", \"bbm\", \"nsshzppb\"] => 6390337\n",
       "                                              Any[\"/\", \"jbt\", \"bbm\", \"tvqh\", \"njqd\"] => 6495349\n",
       "                                             Any[\"/\", \"jbt\", \"bbm\", \"tvqh\", \"vjdjl\"] => 8679207\n",
       "                                                                 Any[\"/\", \"tmcpgtz\"] => 11142386\n",
       "                                                      Any[\"/\", \"jbt\", \"bbm\", \"tvqh\"] => 21420854\n",
       "                                                              Any[\"/\", \"jbt\", \"bbm\"] => 30005381\n",
       "                                                                     Any[\"/\", \"jbt\"] => 34676561\n",
       "                                                                            Any[\"/\"] => 48044502"
      ]
     },
     "metadata": {},
     "output_type": "display_data"
    }
   ],
   "source": [
    "sort(collect(sizes), by = x->x[2])"
   ]
  },
  {
   "cell_type": "markdown",
   "metadata": {},
   "source": [
    "Part 2"
   ]
  },
  {
   "cell_type": "code",
   "execution_count": 137,
   "metadata": {},
   "outputs": [
    {
     "name": "stdout",
     "output_type": "stream",
     "text": [
      "8679207"
     ]
    }
   ],
   "source": [
    "# find free space\n",
    "total=70000000\n",
    "needed=30000000\n",
    "used=sizes[[\"/\"]]\n",
    "free=total-used\n",
    "diff=free-needed\n",
    "diff>0\n",
    "candidates=filter(x->last(x)+diff>0,sizes)\n",
    "best=sort(collect(candidates), by = x->(x[2]))[1]\n",
    "result=best[2]\n",
    "print(result)"
   ]
  }
 ],
 "metadata": {
  "kernelspec": {
   "display_name": "Julia 1.8.3",
   "language": "julia",
   "name": "julia-1.8"
  },
  "language_info": {
   "file_extension": ".jl",
   "mimetype": "application/julia",
   "name": "julia",
   "version": "1.8.3"
  },
  "orig_nbformat": 4
 },
 "nbformat": 4,
 "nbformat_minor": 2
}
