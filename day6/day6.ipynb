{
 "cells": [
  {
   "cell_type": "code",
   "execution_count": 10,
   "metadata": {},
   "outputs": [
    {
     "name": "stderr",
     "output_type": "stream",
     "text": [
      "\u001b[32m\u001b[1m   Resolving\u001b[22m\u001b[39m package versions...\n",
      "\u001b[32m\u001b[1m  No Changes\u001b[22m\u001b[39m to `~/.julia/environments/v1.8/Project.toml`\n",
      "\u001b[32m\u001b[1m  No Changes\u001b[22m\u001b[39m to `~/.julia/environments/v1.8/Manifest.toml`\n"
     ]
    }
   ],
   "source": [
    "using Pkg\n",
    "Pkg.add(\"DataStructures\")\n",
    "using DataStructures"
   ]
  },
  {
   "cell_type": "code",
   "execution_count": 36,
   "metadata": {},
   "outputs": [
    {
     "name": "stdout",
     "output_type": "stream",
     "text": [
      "1658"
     ]
    }
   ],
   "source": [
    "a=open(\"input.txt\")\n",
    "l=4\n",
    "cb=CircularBuffer{Char}(l)\n",
    "\n",
    "pos=0\n",
    "while !eof(a)\n",
    "    pos+=1\n",
    "    c=read(a,Char)\n",
    "    pushfirst!(cb,c)\n",
    "    \n",
    "    if (length(cb)==length(Set(cb))) && pos>l\n",
    "        break\n",
    "    end\n",
    "\n",
    "end\n",
    "print(pos)"
   ]
  },
  {
   "cell_type": "code",
   "execution_count": 37,
   "metadata": {},
   "outputs": [
    {
     "name": "stdout",
     "output_type": "stream",
     "text": [
      "2260"
     ]
    }
   ],
   "source": [
    "a=open(\"input.txt\")\n",
    "l=14\n",
    "cb=CircularBuffer{Char}(l)\n",
    "\n",
    "pos=0\n",
    "while !eof(a)\n",
    "    pos+=1\n",
    "    c=read(a,Char)\n",
    "    pushfirst!(cb,c)\n",
    "    \n",
    "    if (length(cb)==length(Set(cb))) && pos>l\n",
    "        break\n",
    "    end\n",
    "\n",
    "end\n",
    "print(pos)"
   ]
  }
 ],
 "metadata": {
  "kernelspec": {
   "display_name": "Julia 1.8.3",
   "language": "julia",
   "name": "julia-1.8"
  },
  "language_info": {
   "file_extension": ".jl",
   "mimetype": "application/julia",
   "name": "julia",
   "version": "1.8.3"
  },
  "orig_nbformat": 4
 },
 "nbformat": 4,
 "nbformat_minor": 2
}
