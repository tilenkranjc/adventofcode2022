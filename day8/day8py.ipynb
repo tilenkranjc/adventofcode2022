{
 "cells": [
  {
   "cell_type": "code",
   "execution_count": 1,
   "metadata": {},
   "outputs": [],
   "source": [
    "import numpy as np"
   ]
  },
  {
   "cell_type": "code",
   "execution_count": 239,
   "metadata": {},
   "outputs": [],
   "source": [
    "n=sum(1 for line in open(\"input.txt\"))\n",
    "\n",
    "with open(\"input.txt\") as file:\n",
    "    line=file.readline().strip()\n",
    "    m=len(line)\n",
    "    ar=np.zeros((n,m))\n",
    "    for r in range(n):\n",
    "        for c in range(m):\n",
    "            ar[r,c]=int(line[c])\n",
    "        line=file.readline().strip()\n",
    "\n",
    "\n",
    "ar=ar.astype(int)"
   ]
  },
  {
   "cell_type": "code",
   "execution_count": 240,
   "metadata": {},
   "outputs": [
    {
     "data": {
      "text/plain": [
       "1818"
      ]
     },
     "execution_count": 240,
     "metadata": {},
     "output_type": "execute_result"
    }
   ],
   "source": [
    "count=0\n",
    "\n",
    "\n",
    "for r in range(1,n-1):\n",
    "    for c in range(1,m-1):\n",
    "        if np.all(ar[:r,c]<ar[r,c]) | np.all(ar[r+1:,c]<ar[r,c]) | np.all(ar[r,:c]<ar[r,c]) | np.all(ar[r,c+1:]<ar[r,c]):\n",
    "            count+=1\n",
    "count+2*m+2*n-4"
   ]
  },
  {
   "cell_type": "code",
   "execution_count": 241,
   "metadata": {},
   "outputs": [],
   "source": [
    "ar2=np.zeros((n,m))\n",
    "for r in range(n):\n",
    "    for c in range(m):\n",
    "        sides=[ar[r,:c][::-1],ar[r,c+1:],ar[:r,c][::-1],ar[r+1:,c]]\n",
    "        ar2[r,c]=np.prod([np.argmax(s>=ar[r,c])+1 if np.any(s>=ar[r,c]) else len(s) for s in sides])\n"
   ]
  },
  {
   "cell_type": "code",
   "execution_count": 243,
   "metadata": {},
   "outputs": [
    {
     "data": {
      "text/plain": [
       "368368.0"
      ]
     },
     "execution_count": 243,
     "metadata": {},
     "output_type": "execute_result"
    }
   ],
   "source": [
    "np.max(ar2)"
   ]
  }
 ],
 "metadata": {
  "kernelspec": {
   "display_name": "Python 3.10.8 ('pv2')",
   "language": "python",
   "name": "python3"
  },
  "language_info": {
   "codemirror_mode": {
    "name": "ipython",
    "version": 3
   },
   "file_extension": ".py",
   "mimetype": "text/x-python",
   "name": "python",
   "nbconvert_exporter": "python",
   "pygments_lexer": "ipython3",
   "version": "3.10.8"
  },
  "orig_nbformat": 4,
  "vscode": {
   "interpreter": {
    "hash": "e08d1a3951f7986aade2fee033ec42a5633368e14feace12a801a264c5c1e22b"
   }
  }
 },
 "nbformat": 4,
 "nbformat_minor": 2
}
