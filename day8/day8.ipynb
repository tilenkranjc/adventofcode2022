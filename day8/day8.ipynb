{
 "cells": [
  {
   "cell_type": "code",
   "execution_count": 15,
   "metadata": {},
   "outputs": [],
   "source": [
    "using Mmap"
   ]
  },
  {
   "cell_type": "code",
   "execution_count": 359,
   "metadata": {},
   "outputs": [
    {
     "name": "stdout",
     "output_type": "stream",
     "text": [
      "n = 99\n"
     ]
    },
    {
     "data": {
      "text/plain": [
       "99"
      ]
     },
     "metadata": {},
     "output_type": "display_data"
    }
   ],
   "source": [
    "a = Mmap.mmap(\"input.txt\")\n",
    "n = 0\n",
    "for i in 1:length(a)\n",
    "if a[i]==10\n",
    "n+=1\n",
    "end\n",
    "end\n",
    "@show n"
   ]
  },
  {
   "cell_type": "code",
   "execution_count": 360,
   "metadata": {},
   "outputs": [
    {
     "name": "stdout",
     "output_type": "stream",
     "text": [
      "1818"
     ]
    }
   ],
   "source": [
    "a=open(\"input.txt\")\n",
    "line=readline(a)\n",
    "m=length(line)\n",
    "ar=Matrix{UInt8}(undef,n,m)\n",
    "\n",
    "for i in range(1,n+1)\n",
    "    if length(line)==0\n",
    "        break\n",
    "    end\n",
    "    for c in range(1,m)\n",
    "        c1=parse(UInt8,line[c])\n",
    "        ar[i,c]=c1\n",
    "    end\n",
    "    line=readline(a)\n",
    "end\n",
    "close(a)\n",
    "count=0\n",
    "for r in range(2,n-1)\n",
    "    for c in range(2,m-1)\n",
    "        if all(ar[begin:r-1,c].<ar[r,c]) || all(ar[r+1:end,c].<ar[r,c]) ||all(ar[r,begin:c-1].<ar[r,c]) || all(ar[r,c+1:end].<ar[r,c])\n",
    "            count+=1\n",
    "        end\n",
    "    end\n",
    "end\n",
    "print(count+2*m+2*n-4)"
   ]
  },
  {
   "cell_type": "code",
   "execution_count": 366,
   "metadata": {},
   "outputs": [
    {
     "name": "stdout",
     "output_type": "stream",
     "text": [
      "368368.0"
     ]
    }
   ],
   "source": [
    "ar2=Matrix{UInt64}(undef,n,m)\n",
    "\n",
    "for r in range(1,n)\n",
    "    for c in range(1,m)\n",
    "        sides=[reverse(ar[begin:r-1,c]),ar[r+1:end,c],reverse(ar[r,begin:c-1]),ar[r,c+1:end]]\n",
    "        sides1=[]\n",
    "        for s in sides\n",
    "            if any(s.>=ar[r,c])\n",
    "                s1=argmax(s.>=ar[r,c])\n",
    "            else\n",
    "                s1=length(s)\n",
    "            end\n",
    "            append!(sides1,s1)\n",
    "        end\n",
    "        ar2[r,c]=prod(sides1)\n",
    "    end\n",
    "end\n",
    "print(convert(Float64,findmax(ar2)[1]))"
   ]
  }
 ],
 "metadata": {
  "kernelspec": {
   "display_name": "Julia 1.8.3",
   "language": "julia",
   "name": "julia-1.8"
  },
  "language_info": {
   "file_extension": ".jl",
   "mimetype": "application/julia",
   "name": "julia",
   "version": "1.8.3"
  },
  "orig_nbformat": 4,
  "vscode": {
   "interpreter": {
    "hash": "e7370f93d1d0cde622a1f8e1c04877d8463912d04d973331ad4851f04de6915a"
   }
  }
 },
 "nbformat": 4,
 "nbformat_minor": 2
}
