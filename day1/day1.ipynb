{
 "cells": [
  {
   "cell_type": "markdown",
   "metadata": {},
   "source": [
    "# Part 1"
   ]
  },
  {
   "cell_type": "code",
   "execution_count": 20,
   "metadata": {},
   "outputs": [
    {
     "name": "stdout",
     "output_type": "stream",
     "text": [
      "70698254"
     ]
    }
   ],
   "source": [
    "a = open(\"input.txt\", \"r\")\n",
    "max_calories=0\n",
    "current_calories=0\n",
    "n=0\n",
    "for line in eachline(a)\n",
    "    if line==\"\"\n",
    "        n=n+1\n",
    "        if current_calories>max_calories\n",
    "            max_calories=current_calories\n",
    "            \n",
    "            \n",
    "        end\n",
    "        current_calories=0\n",
    "    else\n",
    "        line1=parse(Int64,line)\n",
    "        current_calories=current_calories+line1\n",
    "    end\n",
    "end\n",
    "close(a)\n",
    "print(max_calories)\n"
   ]
  },
  {
   "cell_type": "code",
   "execution_count": 24,
   "metadata": {},
   "outputs": [],
   "source": [
    "a = open(\"input.txt\", \"r\")\n",
    "all_calories=zeros(Int64,0)\n",
    "current_calories=0\n",
    "n=0\n",
    "for line in eachline(a)\n",
    "    if line==\"\"\n",
    "        n=n+1\n",
    "        append!(all_calories,current_calories)\n",
    "        current_calories=0\n",
    "    else\n",
    "        line1=parse(Int64,line)\n",
    "        current_calories=current_calories+line1\n",
    "    end\n",
    "end\n",
    "close(a)\n"
   ]
  },
  {
   "cell_type": "code",
   "execution_count": 35,
   "metadata": {},
   "outputs": [
    {
     "data": {
      "text/plain": [
       "206643"
      ]
     },
     "metadata": {},
     "output_type": "display_data"
    }
   ],
   "source": [
    "sum(view(sort(all_calories,rev=true),1:3))"
   ]
  }
 ],
 "metadata": {
  "kernelspec": {
   "display_name": "Julia 1.8.3",
   "language": "julia",
   "name": "julia-1.8"
  },
  "language_info": {
   "file_extension": ".jl",
   "mimetype": "application/julia",
   "name": "julia",
   "version": "1.8.3"
  },
  "orig_nbformat": 4
 },
 "nbformat": 4,
 "nbformat_minor": 2
}
