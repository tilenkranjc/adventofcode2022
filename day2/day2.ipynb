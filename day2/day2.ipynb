{
 "cells": [
  {
   "cell_type": "markdown",
   "metadata": {},
   "source": [
    "# Part 1"
   ]
  },
  {
   "cell_type": "code",
   "execution_count": 32,
   "metadata": {},
   "outputs": [
    {
     "data": {
      "text/plain": [
       "11906"
      ]
     },
     "metadata": {},
     "output_type": "display_data"
    }
   ],
   "source": [
    "outcomes=Dict(\"A Y\"=>6+2, \"A X\"=>3+1, \"A Z\"=>0+3, \"B Y\"=>3+2, \"B X\"=>0+1, \"B Z\"=>6+3, \"C Y\"=>0+2, \"C X\"=>6+1,\"C Z\"=>3+3)\n",
    "a = open(\"input.txt\", \"r\")\n",
    "s= split(read(a,String),\"\\n\")\n",
    "sum([outcomes[d] for d in s[1:length(s)-1]])"
   ]
  },
  {
   "cell_type": "code",
   "execution_count": 33,
   "metadata": {},
   "outputs": [
    {
     "name": "stdout",
     "output_type": "stream",
     "text": [
      "11906"
     ]
    }
   ],
   "source": [
    "decipher=Dict(\"A\"=>\"Rock\",\"B\"=>\"Paper\",\"C\"=>\"Scissors\")\n",
    "defeats=Dict(\"Rock\"=>\"Scissors\",\"Paper\"=>\"Rock\",\"Scissors\"=>\"Paper\")\n",
    "points_match=Dict(\"win\"=>6,\"draw\"=>3,\"lost\"=>0)\n",
    "points_shape=Dict(\"Rock\"=>1,\"Paper\"=>2,\"Scissors\"=>3)\n",
    "strategy=Dict(\"X\"=>\"A\",\"Y\"=>\"B\",\"Z\"=>\"C\")\n",
    "a = open(\"input.txt\", \"r\")\n",
    "points=0\n",
    "for line in eachline(a)\n",
    "    p1,p2=split(line,\" \")\n",
    "    p1a=decipher[p1]\n",
    "    p2aa=strategy[p2]\n",
    "    p2a=decipher[p2aa]\n",
    "    p2d=defeats[p2a]\n",
    "    if p1a==p2a\n",
    "        points += points_match[\"draw\"]\n",
    "    elseif p1a==p2d\n",
    "        points += points_match[\"win\"]\n",
    "    end\n",
    "    points += points_shape[p2a]\n",
    "end\n",
    "close(a)\n",
    "print(points)\n"
   ]
  },
  {
   "cell_type": "code",
   "execution_count": 36,
   "metadata": {},
   "outputs": [
    {
     "data": {
      "text/plain": [
       "Dict{String, String} with 3 entries:\n",
       "  \"Y\" => \"draw\"\n",
       "  \"Z\" => \"win\"\n",
       "  \"X\" => \"lose\""
      ]
     },
     "metadata": {},
     "output_type": "display_data"
    }
   ],
   "source": [
    "outcomes1=Dict(\"X\"=>\"lose\",\"Y\"=>\"draw\",\"Z\"=>\"win\")"
   ]
  },
  {
   "cell_type": "code",
   "execution_count": 38,
   "metadata": {},
   "outputs": [
    {
     "name": "stdout",
     "output_type": "stream",
     "text": [
      "11186"
     ]
    }
   ],
   "source": [
    "rev_defeats=Dict(value => key for (key, value) in defeats)\n",
    "\n",
    "a = open(\"input.txt\", \"r\")\n",
    "points=0\n",
    "for line in eachline(a)\n",
    "    p1,p2=split(line,\" \")\n",
    "    p1a=decipher[p1]\n",
    "    oc=outcomes1[p2]\n",
    "    if oc==\"draw\"\n",
    "        points += points_match[\"draw\"]\n",
    "        points += points_shape[p1a]\n",
    "    elseif oc==\"win\"\n",
    "        points += points_match[\"win\"]\n",
    "        p2a=rev_defeats[p1a]\n",
    "        points += points_shape[p2a]\n",
    "    elseif oc==\"lose\"\n",
    "        p2a=defeats[p1a]\n",
    "        points += points_shape[p2a]\n",
    "    end\n",
    "end\n",
    "close(a)\n",
    "print(points)"
   ]
  }
 ],
 "metadata": {
  "kernelspec": {
   "display_name": "Julia 1.8.3",
   "language": "julia",
   "name": "julia-1.8"
  },
  "language_info": {
   "file_extension": ".jl",
   "mimetype": "application/julia",
   "name": "julia",
   "version": "1.8.3"
  },
  "orig_nbformat": 4
 },
 "nbformat": 4,
 "nbformat_minor": 2
}
