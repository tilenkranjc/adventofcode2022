{
 "cells": [
  {
   "cell_type": "markdown",
   "metadata": {},
   "source": [
    "# Part 1"
   ]
  },
  {
   "cell_type": "code",
   "execution_count": 17,
   "metadata": {},
   "outputs": [],
   "source": [
    "a = open(\"input.txt\", \"r\")\n",
    "points=0\n",
    "for input in eachline(a)\n",
    "    p1,p2=split(input,\",\")\n",
    "    p1=split(p1,\"-\")\n",
    "    p2=split(p2,\"-\")\n",
    "    r1=range(parse(Int64,p1[1]),parse(Int64,p1[2]))\n",
    "    r2=range(parse(Int64,p2[1]),parse(Int64,p2[2]))\n",
    "    i=intersect(r1,r2)\n",
    "    if i==r1 || i==r2\n",
    "        points += 1\n",
    "    end\n",
    "end"
   ]
  },
  {
   "cell_type": "code",
   "execution_count": 18,
   "metadata": {},
   "outputs": [
    {
     "data": {
      "text/plain": [
       "567"
      ]
     },
     "metadata": {},
     "output_type": "display_data"
    }
   ],
   "source": [
    "points"
   ]
  },
  {
   "cell_type": "markdown",
   "metadata": {},
   "source": [
    "# Part 2"
   ]
  },
  {
   "cell_type": "code",
   "execution_count": 35,
   "metadata": {},
   "outputs": [],
   "source": [
    "a = open(\"input.txt\", \"r\")\n",
    "points=0\n",
    "for input in eachline(a)\n",
    "    p1,p2=split(input,\",\")\n",
    "    p1=split(p1,\"-\")\n",
    "    p2=split(p2,\"-\")\n",
    "    r1=collect(range(parse(Int64,p1[1]),parse(Int64,p1[2])))\n",
    "    r2=collect(range(parse(Int64,p2[1]),parse(Int64,p2[2])))\n",
    "    i=intersect(r1,r2)\n",
    "    if length(i)>0\n",
    "        points += 1\n",
    "    end\n",
    "end"
   ]
  },
  {
   "cell_type": "code",
   "execution_count": 36,
   "metadata": {},
   "outputs": [
    {
     "data": {
      "text/plain": [
       "907"
      ]
     },
     "metadata": {},
     "output_type": "display_data"
    }
   ],
   "source": [
    "points"
   ]
  }
 ],
 "metadata": {
  "kernelspec": {
   "display_name": "Julia 1.8.3",
   "language": "julia",
   "name": "julia-1.8"
  },
  "language_info": {
   "file_extension": ".jl",
   "mimetype": "application/julia",
   "name": "julia",
   "version": "1.8.3"
  },
  "orig_nbformat": 4
 },
 "nbformat": 4,
 "nbformat_minor": 2
}
